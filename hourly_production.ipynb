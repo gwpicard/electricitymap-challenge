{
 "cells": [
  {
   "cell_type": "code",
   "execution_count": null,
   "metadata": {},
   "outputs": [],
   "source": [
    "\"\"\"\n",
    "Goal: hourly power breakdown for South Korea from Jan 1st, 2019 to December 31st, 2019\n",
    "\n",
    "Output csv format:\n",
    "\n",
    "datetime, \n",
    "timestamp,\n",
    "zone_name,\n",
    "total_consumption_avg,\n",
    "power_production_biomass_avg,\n",
    "power_production_coal_avg,\n",
    "power_production_gas_avg,\n",
    "power_production_hydro_avg,\n",
    "power_production_nuclear_avg,\n",
    "power_production_oil_avg,\n",
    "power_production_solar_avg,\n",
    "power_production_wind_avg,\n",
    "power_production_geothermal_avg,\n",
    "power_production_unknown_avg\n",
    "\"\"\"\n"
   ]
  }
 ],
 "metadata": {
  "kernelspec": {
   "display_name": "Python 3",
   "language": "python",
   "name": "python3"
  },
  "language_info": {
   "codemirror_mode": {
    "name": "ipython",
    "version": 3
   },
   "file_extension": ".py",
   "mimetype": "text/x-python",
   "name": "python",
   "nbconvert_exporter": "python",
   "pygments_lexer": "ipython3",
   "version": "3.7.1"
  }
 },
 "nbformat": 4,
 "nbformat_minor": 4
}
