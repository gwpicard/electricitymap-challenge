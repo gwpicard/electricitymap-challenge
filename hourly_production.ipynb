{
 "cells": [
  {
   "cell_type": "code",
   "execution_count": null,
   "metadata": {},
   "outputs": [],
   "source": [
    "\"\"\"\n",
    "Goal: hourly power breakdown for South Korea from Jan 1st, 2019 to December 31st, 2019\n",
    "\n",
    "Output csv format:\n",
    "\n",
    "datetime, \n",
    "timestamp,\n",
    "zone_name,\n",
    "total_consumption_avg,\n",
    "power_production_biomass_avg,\n",
    "power_production_coal_avg,\n",
    "power_production_gas_avg,\n",
    "power_production_hydro_avg,\n",
    "power_production_nuclear_avg,\n",
    "power_production_oil_avg,\n",
    "power_production_solar_avg,\n",
    "power_production_wind_avg,\n",
    "power_production_geothermal_avg,\n",
    "power_production_unknown_avg\n",
    "\"\"\"\n"
   ]
  },
  {
   "cell_type": "code",
   "execution_count": 1,
   "metadata": {},
   "outputs": [],
   "source": [
    "from datetime import datetime"
   ]
  },
  {
   "cell_type": "code",
   "execution_count": 13,
   "metadata": {},
   "outputs": [],
   "source": [
    "def convert_datetime_to_int(datetime_obj):\n",
    "    \"\"\"\n",
    "    Datetime object has the following format:\n",
    "    datetime(year, month, day, hour, minute, second, microsecond)\n",
    "    \"\"\"\n",
    "    org_datetime = datetime(1970,1,1,0,0,0,0)\n",
    "    timestamp = int((datetime_obj-org_datetime).total_seconds())\n",
    "    return timestamp"
   ]
  },
  {
   "cell_type": "code",
   "execution_count": 17,
   "metadata": {},
   "outputs": [
    {
     "data": {
      "text/plain": [
       "1514764800"
      ]
     },
     "execution_count": 17,
     "metadata": {},
     "output_type": "execute_result"
    }
   ],
   "source": [
    "convert_datetime_to_int(datetime(2018,1,1,0,0,0,0))"
   ]
  },
  {
   "cell_type": "code",
   "execution_count": null,
   "metadata": {},
   "outputs": [],
   "source": []
  }
 ],
 "metadata": {
  "kernelspec": {
   "display_name": "Python 3",
   "language": "python",
   "name": "python3"
  },
  "language_info": {
   "codemirror_mode": {
    "name": "ipython",
    "version": 3
   },
   "file_extension": ".py",
   "mimetype": "text/x-python",
   "name": "python",
   "nbconvert_exporter": "python",
   "pygments_lexer": "ipython3",
   "version": "3.7.1"
  }
 },
 "nbformat": 4,
 "nbformat_minor": 4
}
